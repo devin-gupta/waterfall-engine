{
 "cells": [
  {
   "cell_type": "code",
   "execution_count": 2,
   "metadata": {},
   "outputs": [
    {
     "data": {
      "text/html": [
       "<div>\n",
       "<style scoped>\n",
       "    .dataframe tbody tr th:only-of-type {\n",
       "        vertical-align: middle;\n",
       "    }\n",
       "\n",
       "    .dataframe tbody tr th {\n",
       "        vertical-align: top;\n",
       "    }\n",
       "\n",
       "    .dataframe thead th {\n",
       "        text-align: right;\n",
       "    }\n",
       "</style>\n",
       "<table border=\"1\" class=\"dataframe\">\n",
       "  <thead>\n",
       "    <tr style=\"text-align: right;\">\n",
       "      <th></th>\n",
       "      <th>transaction_date</th>\n",
       "      <th>transaction_amount</th>\n",
       "      <th>contribution_or_distribution</th>\n",
       "      <th>commitment_id</th>\n",
       "    </tr>\n",
       "  </thead>\n",
       "  <tbody>\n",
       "    <tr>\n",
       "      <th>0</th>\n",
       "      <td>01/01/2019</td>\n",
       "      <td>$ (10,000.00)</td>\n",
       "      <td>contribution</td>\n",
       "      <td>1</td>\n",
       "    </tr>\n",
       "    <tr>\n",
       "      <th>1</th>\n",
       "      <td>01/01/2019</td>\n",
       "      <td>$ (10,000.00)</td>\n",
       "      <td>contribution</td>\n",
       "      <td>2</td>\n",
       "    </tr>\n",
       "    <tr>\n",
       "      <th>2</th>\n",
       "      <td>01/01/2019</td>\n",
       "      <td>$ (20,000.00)</td>\n",
       "      <td>contribution</td>\n",
       "      <td>3</td>\n",
       "    </tr>\n",
       "    <tr>\n",
       "      <th>3</th>\n",
       "      <td>01/01/2019</td>\n",
       "      <td>$ (40,000.00)</td>\n",
       "      <td>contribution</td>\n",
       "      <td>4</td>\n",
       "    </tr>\n",
       "    <tr>\n",
       "      <th>4</th>\n",
       "      <td>01/01/2019</td>\n",
       "      <td>$ (50,000.00)</td>\n",
       "      <td>contribution</td>\n",
       "      <td>5</td>\n",
       "    </tr>\n",
       "  </tbody>\n",
       "</table>\n",
       "</div>"
      ],
      "text/plain": [
       "  transaction_date transaction_amount contribution_or_distribution  \\\n",
       "0       01/01/2019      $ (10,000.00)                 contribution   \n",
       "1       01/01/2019      $ (10,000.00)                 contribution   \n",
       "2       01/01/2019      $ (20,000.00)                 contribution   \n",
       "3       01/01/2019      $ (40,000.00)                 contribution   \n",
       "4       01/01/2019      $ (50,000.00)                 contribution   \n",
       "\n",
       "   commitment_id  \n",
       "0              1  \n",
       "1              2  \n",
       "2              3  \n",
       "3              4  \n",
       "4              5  "
      ]
     },
     "execution_count": 2,
     "metadata": {},
     "output_type": "execute_result"
    }
   ],
   "source": [
    "import csv\n",
    "import numpy as np\n",
    "import pandas as pd\n",
    "\n",
    "df = pd.read_csv('transactions.csv')\n",
    "df.head()"
   ]
  },
  {
   "cell_type": "code",
   "execution_count": 4,
   "metadata": {},
   "outputs": [
    {
     "data": {
      "text/html": [
       "<div>\n",
       "<style scoped>\n",
       "    .dataframe tbody tr th:only-of-type {\n",
       "        vertical-align: middle;\n",
       "    }\n",
       "\n",
       "    .dataframe tbody tr th {\n",
       "        vertical-align: top;\n",
       "    }\n",
       "\n",
       "    .dataframe thead th {\n",
       "        text-align: right;\n",
       "    }\n",
       "</style>\n",
       "<table border=\"1\" class=\"dataframe\">\n",
       "  <thead>\n",
       "    <tr style=\"text-align: right;\">\n",
       "      <th></th>\n",
       "      <th>transaction_date</th>\n",
       "      <th>transaction_amount</th>\n",
       "      <th>contribution_or_distribution</th>\n",
       "      <th>commitment_id</th>\n",
       "    </tr>\n",
       "  </thead>\n",
       "  <tbody>\n",
       "    <tr>\n",
       "      <th>0</th>\n",
       "      <td>2019-01-01</td>\n",
       "      <td>-10000.0</td>\n",
       "      <td>contribution</td>\n",
       "      <td>1</td>\n",
       "    </tr>\n",
       "    <tr>\n",
       "      <th>1</th>\n",
       "      <td>2019-01-01</td>\n",
       "      <td>-10000.0</td>\n",
       "      <td>contribution</td>\n",
       "      <td>2</td>\n",
       "    </tr>\n",
       "    <tr>\n",
       "      <th>2</th>\n",
       "      <td>2019-01-01</td>\n",
       "      <td>-20000.0</td>\n",
       "      <td>contribution</td>\n",
       "      <td>3</td>\n",
       "    </tr>\n",
       "    <tr>\n",
       "      <th>3</th>\n",
       "      <td>2019-01-01</td>\n",
       "      <td>-40000.0</td>\n",
       "      <td>contribution</td>\n",
       "      <td>4</td>\n",
       "    </tr>\n",
       "    <tr>\n",
       "      <th>4</th>\n",
       "      <td>2019-01-01</td>\n",
       "      <td>-50000.0</td>\n",
       "      <td>contribution</td>\n",
       "      <td>5</td>\n",
       "    </tr>\n",
       "  </tbody>\n",
       "</table>\n",
       "</div>"
      ],
      "text/plain": [
       "  transaction_date  transaction_amount contribution_or_distribution  \\\n",
       "0       2019-01-01            -10000.0                 contribution   \n",
       "1       2019-01-01            -10000.0                 contribution   \n",
       "2       2019-01-01            -20000.0                 contribution   \n",
       "3       2019-01-01            -40000.0                 contribution   \n",
       "4       2019-01-01            -50000.0                 contribution   \n",
       "\n",
       "   commitment_id  \n",
       "0              1  \n",
       "1              2  \n",
       "2              3  \n",
       "3              4  \n",
       "4              5  "
      ]
     },
     "execution_count": 4,
     "metadata": {},
     "output_type": "execute_result"
    }
   ],
   "source": [
    "def clean_amount(amount_str):\n",
    "    # Remove dollar signs and spaces\n",
    "    clean_str = amount_str.strip().replace('$', '').replace(' ', '')\n",
    "    \n",
    "    # Check if the value is in parentheses (negative)\n",
    "    is_negative = '(' in clean_str and ')' in clean_str\n",
    "    \n",
    "    # Remove parentheses and commas, then convert to float\n",
    "    clean_str = clean_str.replace('(', '').replace(')', '').replace(',', '')\n",
    "    amount = float(clean_str)\n",
    "    \n",
    "    # Make negative if in parentheses\n",
    "    return -amount if is_negative else amount\n",
    "\n",
    "df['transaction_date'] = pd.to_datetime(df['transaction_date'], format='%m/%d/%Y')\n",
    "df['transaction_amount'] = df['transaction_amount'].apply(clean_amount)\n",
    "df.head()"
   ]
  },
  {
   "cell_type": "code",
   "execution_count": 6,
   "metadata": {},
   "outputs": [
    {
     "data": {
      "text/plain": [
       "108.0"
      ]
     },
     "execution_count": 6,
     "metadata": {},
     "output_type": "execute_result"
    }
   ],
   "source": [
    "irr = 0.08\n",
    "\n",
    "def get_npv(value, rate, days):\n",
    "    return value * (1+rate)**(days/365)\n",
    "\n",
    "get_npv(100, 0.08, 365)"
   ]
  },
  {
   "cell_type": "code",
   "execution_count": 15,
   "metadata": {},
   "outputs": [
    {
     "name": "stdout",
     "output_type": "stream",
     "text": [
      "Return of Capital Completed: True\n",
      "LP Allocation: 50000.0\n",
      "GP Allocation: 0\n",
      "Next Tier Capital: 150000.0\n"
     ]
    }
   ],
   "source": [
    "def return_of_capital(commitment_id, date):\n",
    "    \"\"\"\n",
    "    returns true if return of capital is satisfied\n",
    "    TRUE - capital is paid back\n",
    "    FALSE - capital is not yet paid back\n",
    "\n",
    "    (capital returned?, additional capital for investor, capital for next tier )\n",
    "    \n",
    "    \"\"\"\n",
    "\n",
    "    total_commitment = df[\n",
    "        (df['commitment_id'] == commitment_id) &\n",
    "        (df['transaction_date'] < date) &\n",
    "        (df['contribution_or_distribution'] == 'contribution')\n",
    "    ]['transaction_amount'].sum()\n",
    "\n",
    "    total_distribution = df[\n",
    "        (df['commitment_id'] == commitment_id) &\n",
    "        (df['transaction_date'] < date) &\n",
    "        (df['contribution_or_distribution'] == 'distribution')\n",
    "    ]['transaction_amount'].sum()\n",
    "\n",
    "    max_distribution = np.min([np.abs(total_commitment), np.abs(total_distribution)])\n",
    "\n",
    "    return (total_distribution + total_commitment >= 0), max_distribution, 0, total_distribution - max_distribution\n",
    "\n",
    "roc_completed, roc_lp_allocation, roc_gp_allocation, next_tier_capital = return_of_capital(1, '2024-01-01')\n",
    "print('Return of Capital Completed:', roc_completed)\n",
    "print('LP Allocation:', np.abs(roc_lp_allocation))\n",
    "print('GP Allocation:', roc_gp_allocation)\n",
    "print('Next Tier Capital:', next_tier_capital)"
   ]
  },
  {
   "cell_type": "code",
   "execution_count": null,
   "metadata": {},
   "outputs": [
    {
     "name": "stdout",
     "output_type": "stream",
     "text": [
      "Preferred Return Completed: True\n",
      "LP Allocation: 9606.613387258287\n",
      "GP Allocation: 0\n",
      "Next Tier Capital: 140393.3866127417\n"
     ]
    }
   ],
   "source": [
    "def preferred_return(commitment_id, date):\n",
    "\n",
    "    roc_completed, roc_lp_allocation, roc_gp_allocation, next_tier_capital = return_of_capital(commitment_id, date)\n",
    "\n",
    "    if not roc_completed:\n",
    "        print('Return of Capital not completed')\n",
    "        return False, 0, 0, 0\n",
    "\n",
    "    date = np.datetime64(date)\n",
    "\n",
    "    subset_df =  df[\n",
    "        (df['commitment_id'] == commitment_id) &\n",
    "        (df['transaction_date'] < date)\n",
    "        # (df['contribution_or_distribution'] == 'contribution')\n",
    "    ]\n",
    "\n",
    "    final_distribution_date = subset_df['transaction_date'].values[-1]\n",
    "\n",
    "    contribution_npv = 0\n",
    "    distribution_npv = 0\n",
    "\n",
    "    for (transaction_date, transaction_amount, contribution_or_distribution, commitment_id) in subset_df.values:\n",
    "        if contribution_or_distribution == 'contribution':\n",
    "            contribution_npv += get_npv(transaction_amount, irr, (final_distribution_date - transaction_date).days)\n",
    "        else:\n",
    "            distribution_npv += get_npv(transaction_amount, irr, (final_distribution_date - transaction_date).days)\n",
    "    \n",
    "    max_lp_allocation = np.min([np.abs(contribution_npv) - np.abs(roc_lp_allocation)])\n",
    "    effective_lp_allocation = np.min([max_lp_allocation, next_tier_capital])\n",
    "\n",
    "    return (next_tier_capital - max_lp_allocation >= 0), effective_lp_allocation, 0, next_tier_capital - effective_lp_allocation\n",
    "\n",
    "pref_return_completed, pref_lp_allocation, pref_gp_allocation, next_tier_capital = preferred_return(1, '2024-01-02')\n",
    "print('Preferred Return Completed:', pref_return_completed)\n",
    "print('LP Allocation:', np.abs(pref_lp_allocation))\n",
    "print('GP Allocation:', pref_gp_allocation)\n",
    "print('Next Tier Capital:', next_tier_capital)"
   ]
  },
  {
   "cell_type": "code",
   "execution_count": null,
   "metadata": {},
   "outputs": [
    {
     "name": "stdout",
     "output_type": "stream",
     "text": [
      "Catch Up Completed: True\n",
      "LP Allocation: 0\n",
      "GP Allocation: 2401.6533468145717\n",
      "Next Tier Capital: 137991.73326592715\n"
     ]
    }
   ],
   "source": [
    "carried_interest_rate = 0.2\n",
    "catch_up_rate = 1\n",
    "\n",
    "def catch_up(commitment_id, date):\n",
    "\n",
    "    roc_completed, roc_lp_allocation, roc_gp_allocation, roc_capital_remaining = return_of_capital(commitment_id, date)\n",
    "    pref_return_completed, pref_lp_allocation, pref_gp_allocation, pref_return_capital_remaining = preferred_return(commitment_id, date)\n",
    "\n",
    "    if not pref_return_completed:\n",
    "        print('Preferred Return not completed')\n",
    "        return False, 0, 0, 0\n",
    "\n",
    "    date = np.datetime64(date)\n",
    "\n",
    "    total_catch_up = carried_interest_rate * np.abs(pref_lp_allocation) / (catch_up_rate - carried_interest_rate)\n",
    "\n",
    "    effective_catch_up = np.min([total_catch_up, pref_return_capital_remaining])\n",
    "\n",
    "    return (total_catch_up <= pref_return_capital_remaining), 0, effective_catch_up, pref_return_capital_remaining - effective_catch_up\n",
    "\n",
    "catch_up_completed, catch_up_lp_allocation, catch_up_gp_allocation, next_tier_capital = catch_up(1, '2024-01-02')\n",
    "print('Catch Up Completed:', catch_up_completed)\n",
    "print('LP Allocation:', np.abs(catch_up_lp_allocation))\n",
    "print('GP Allocation:', catch_up_gp_allocation)\n",
    "print('Next Tier Capital:', next_tier_capital)"
   ]
  },
  {
   "cell_type": "code",
   "execution_count": null,
   "metadata": {},
   "outputs": [
    {
     "name": "stdout",
     "output_type": "stream",
     "text": [
      "Final Split Completed: True\n",
      "LP Allocation: 110393.38661274173\n",
      "GP Allocation: 27598.346653185432\n",
      "Next Tier Capital: 0\n"
     ]
    }
   ],
   "source": [
    "def final_split(commitment_id, date):\n",
    "\n",
    "    roc_completed, roc_lp_allocation, roc_gp_allocation, roc_capital_remaining = return_of_capital(commitment_id, date)\n",
    "    pref_return_completed, pref_lp_allocation, pref_gp_allocation, pref_return_capital_remaining = preferred_return(commitment_id, date)\n",
    "    catch_up_completed, catch_up_lp_allocation, catch_up_gp_allocation, catch_up_capital_remaining = catch_up(commitment_id, date)\n",
    "    \n",
    "    if not catch_up_completed:\n",
    "        print('Catch Up not completed')\n",
    "        return False, 0, 0, 0\n",
    "\n",
    "    date = np.datetime64(date)\n",
    "\n",
    "    lp_allocation = catch_up_capital_remaining * (1-carried_interest_rate)\n",
    "    gp_allocation = catch_up_capital_remaining * (carried_interest_rate)\n",
    "\n",
    "    return True, lp_allocation, gp_allocation, 0\n",
    "\n",
    "final_split_completed, final_lp_allocation, final_gp_allocation, next_tier_capital = final_split(1, '2024-01-02')\n",
    "print('Final Split Completed:', final_split_completed)\n",
    "print('LP Allocation:', np.abs(final_lp_allocation))\n",
    "print('GP Allocation:', final_gp_allocation)\n",
    "print('Next Tier Capital:', next_tier_capital)"
   ]
  },
  {
   "cell_type": "code",
   "execution_count": 26,
   "metadata": {},
   "outputs": [
    {
     "name": "stdout",
     "output_type": "stream",
     "text": [
      "Total LP Distributions:  170000.0\n",
      "Total GP Distributions:  30000.000000000004\n",
      "Total Distributions:  200000.0 \n",
      "\n",
      "Net Split:  0.8\n"
     ]
    }
   ],
   "source": [
    "# check \n",
    "total_lp_distributions = np.abs(roc_lp_allocation) + np.abs(pref_lp_allocation) + np.abs(catch_up_lp_allocation) + np.abs(final_lp_allocation)\n",
    "total_gp_distributions = np.abs(roc_gp_allocation) + np.abs(pref_gp_allocation) + np.abs(catch_up_gp_allocation) + np.abs(final_gp_allocation)\n",
    "\n",
    "initial_commitment = df[\n",
    "    (df['commitment_id'] == 1) &\n",
    "    (df['transaction_date'] < '2024-01-02') &\n",
    "    (df['contribution_or_distribution'] == 'contribution')\n",
    "]['transaction_amount'].sum()\n",
    "\n",
    "print('Total LP Distributions: ', total_lp_distributions)\n",
    "print('Total GP Distributions: ', total_gp_distributions)\n",
    "\n",
    "print('Total Distributions: ', total_lp_distributions + total_gp_distributions, '\\n')\n",
    "print('Net Split: ', (total_lp_distributions + initial_commitment) / (total_lp_distributions + initial_commitment + total_gp_distributions))"
   ]
  }
 ],
 "metadata": {
  "kernelspec": {
   "display_name": ".venv",
   "language": "python",
   "name": "python3"
  },
  "language_info": {
   "codemirror_mode": {
    "name": "ipython",
    "version": 3
   },
   "file_extension": ".py",
   "mimetype": "text/x-python",
   "name": "python",
   "nbconvert_exporter": "python",
   "pygments_lexer": "ipython3",
   "version": "3.13.2"
  }
 },
 "nbformat": 4,
 "nbformat_minor": 2
}
